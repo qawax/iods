{
  "nbformat": 4,
  "nbformat_minor": 0,
  "metadata": {
    "colab": {
      "provenance": []
    },
    "kernelspec": {
      "name": "python3",
      "display_name": "Python 3"
    },
    "language_info": {
      "name": "python"
    }
  },
  "cells": [
    {
      "cell_type": "code",
      "source": [
        "number=int(input(\"輸入範圍\"))\n",
        "for i in range(1, number+1):\n",
        "  for j in range(1, number+1):\n",
        "    print(f\"{i}x{j}={i*j}\")"
      ],
      "metadata": {
        "colab": {
          "base_uri": "https://localhost:8080/"
        },
        "id": "B8DpK4ZXE7Tc",
        "outputId": "57599936-46bd-4c26-ec14-be2c2ff45a1e"
      },
      "execution_count": 11,
      "outputs": [
        {
          "output_type": "stream",
          "name": "stdout",
          "text": [
            "輸入範圍3\n",
            "1x1=1\n",
            "1x2=2\n",
            "1x3=3\n",
            "2x1=2\n",
            "2x2=4\n",
            "2x3=6\n",
            "3x1=3\n",
            "3x2=6\n",
            "3x3=9\n"
          ]
        }
      ]
    },
    {
      "cell_type": "code",
      "execution_count": 10,
      "metadata": {
        "colab": {
          "base_uri": "https://localhost:8080/"
        },
        "id": "ClwUfbGTAloO",
        "outputId": "f4b11152-4f9f-4c3d-f1ba-0025e3e1507b"
      },
      "outputs": [
        {
          "output_type": "stream",
          "name": "stdout",
          "text": [
            "歡迎參加猜數字遊戲！\n",
            "請輸入一個1和100之間的數字:\n",
            "25\n",
            "太大了\n",
            "請猜一個1到24之間的數字：\n",
            "3\n",
            "太大了\n",
            "請猜一個1到2之間的數字：\n",
            "1\n",
            "答對了\n",
            "遊戲結束\n"
          ]
        }
      ],
      "source": [
        "import random\n",
        "target_number=random.randint(1,100)\n",
        "print(\"歡迎參加猜數字遊戲！\")\n",
        "min=1\n",
        "max=100\n",
        "print(\"請輸入一個{}和{}之間的數字:\".format(min,max))\n",
        "while True:\n",
        "  x=int(input())\n",
        "  if x>target_number:\n",
        "    print(\"太大了\")\n",
        "    max=x-1\n",
        "\n",
        "  elif x<target_number:\n",
        "    print(\"太小了\")\n",
        "    min=x+1\n",
        "\n",
        "  elif x==target_number:\n",
        "    print(\"答對了\")\n",
        "    break\n",
        "  else:\n",
        "    print(\"請猜一個1到100之間的數字：\")\n",
        "  print(\"請猜一個{}到{}之間的數字：\".format(min,max))\n",
        "print(\"遊戲結束\")\n",
        "\n"
      ]
    },
    {
      "cell_type": "code",
      "source": [],
      "metadata": {
        "id": "HKX6ul9mE4Nt"
      },
      "execution_count": null,
      "outputs": []
    }
  ]
}